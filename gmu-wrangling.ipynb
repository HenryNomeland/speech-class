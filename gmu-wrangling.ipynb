{
 "cells": [
  {
   "cell_type": "code",
   "execution_count": 1,
   "id": "a40ea90b",
   "metadata": {},
   "outputs": [],
   "source": [
    "import warnings\n",
    "warnings.filterwarnings('ignore')"
   ]
  },
  {
   "cell_type": "code",
   "execution_count": null,
   "id": "55704325-6a3a-4750-b9ed-ba46e7b06035",
   "metadata": {},
   "outputs": [],
   "source": [
    "# mp3 demonstration\n",
    "# from wrangling.wav_conversion import convert_mp3_to_wav\n",
    "# mp3_folder = \"/home/henrynomeland/Documents/senior-thesis/speech-class/data/mp3-input\"\n",
    "# in_folder = \"/home/henrynomeland/Documents/senior-thesis/speech-class/data/montreal-input\"\n",
    "# out_folder = \"/home/henrynomeland/Documents/senior-thesis/speech-class/data/montreal-output\"\n",
    "# convert_mp3_to_wav(mp3_folder, in_folder, out_folder)"
   ]
  },
  {
   "cell_type": "code",
   "execution_count": 2,
   "id": "75099d58",
   "metadata": {},
   "outputs": [
    {
     "name": "stdout",
     "output_type": "stream",
     "text": [
      "Conversion Successful\n",
      "TextGrid Creation Successful\n",
      "Alignment Successful\n",
      "Files are incorrectly aligned, try recreating and aligning TextGrids.\n"
     ]
    }
   ],
   "source": [
    "# EXAMPLE CODE\n",
    "\n",
    "from wrangling.textgrid_creation import create_textgrids\n",
    "from wrangling.custom_mfa_align import align\n",
    "from wrangling.formant_extraction import extract\n",
    "\n",
    "# ARGUMENTS:\n",
    "in_folder = \"/home/henrynomeland/Documents/senior-thesis/speech-class/data/montreal-input\"\n",
    "out_folder = \"/home/henrynomeland/Documents/senior-thesis/speech-class/data/montreal-output\"\n",
    "home_folder = \"/home/henrynomeland/Documents/senior-thesis/speech-class/data\" \n",
    "label = \"Please call Stella. Ask her to bring these things with her from the store: \\\n",
    "Six spoons of fresh snow peas, five thick slabs of blue cheese, and maybe a snack for \\\n",
    "her brother Bob. We also need a small plastic snake and a big toy frog for the kids. She \\\n",
    "can scoop these things into three red bags, and we will go meet her Wednesday at the train station.\"\n",
    "acoustic_model = \"english_us_arpa\"\n",
    "dictionary_model = \"english_us_arpa\"\n",
    "filename=\"gmu-results.csv\"\n",
    "\n",
    "# this creates the textgrids\n",
    "create_textgrids(label, in_folder)\n",
    "# this aligns the textgrids\n",
    "align(in_folder, out_folder, acoustic_model, dictionary_model)\n",
    "# this calculates formant measurements\n",
    "extract(out_folder, home_folder, filename)"
   ]
  }
 ],
 "metadata": {
  "kernelspec": {
   "display_name": "Python 3 (ipykernel)",
   "language": "python",
   "name": "python3"
  },
  "language_info": {
   "codemirror_mode": {
    "name": "ipython",
    "version": 3
   },
   "file_extension": ".py",
   "mimetype": "text/x-python",
   "name": "python",
   "nbconvert_exporter": "python",
   "pygments_lexer": "ipython3",
   "version": "3.11.5"
  }
 },
 "nbformat": 4,
 "nbformat_minor": 5
}
