{
 "cells": [
  {
   "cell_type": "code",
   "execution_count": 15,
   "id": "5db9163a",
   "metadata": {},
   "outputs": [
    {
     "name": "stdout",
     "output_type": "stream",
     "text": [
      "Fitting Model of type rforest\n",
      "Modeling Sample 1 of 5\n",
      "Modeling Sample 2 of 5\n",
      "Modeling Sample 3 of 5\n",
      "Modeling Sample 4 of 5\n",
      "Modeling Sample 5 of 5\n",
      "\n",
      "Accuracy: 0.912\n",
      "\n",
      "Variable Importance Measurements:\n",
      "          Feature  Importance\n",
      "5       F1mF2-ask    0.000251\n",
      "74        du-frog    0.000207\n",
      "65         du-bob    0.000178\n",
      "99       du-store    0.000133\n",
      "31   F1mF2-please    0.000133\n",
      "68        du-call    0.000104\n",
      "34      F1mF2-she    0.000089\n",
      "4       F1mF2-and    0.000089\n",
      "58        du-also    0.000074\n",
      "104      du-three    0.000059\n"
     ]
    }
   ],
   "source": [
    "import warnings\n",
    "warnings.filterwarnings('ignore')\n",
    "\n",
    "import pandas as pd\n",
    "from speech_modeling import h_model, h_input\n",
    "raw_df = pd.read_csv(\"./formants.csv\")\n",
    "\n",
    "input_data = h_input(raw_df)\n",
    "input_data.process('region')\n",
    "input_data.select_features(selected_features=['F1mF2', 'duration'])\n",
    "input_data.normalize(method='minmax')\n",
    "input_data.select_places(places=['uk', 'texas', 'california', 'newyork'])\n",
    "\n",
    "model_data = input_data.input_df\n",
    "model_features = ['age', 'gender'] + list(input_data.input_df.columns[4:])\n",
    "\n",
    "m = h_model(data=model_data, features=model_features, y_feature=\"location\", y_main=\"uk\")\n",
    "m.fit(NUM_SAMPLES=5)"
   ]
  }
 ],
 "metadata": {
  "kernelspec": {
   "display_name": "Python 3 (ipykernel)",
   "language": "python",
   "name": "python3"
  },
  "language_info": {
   "codemirror_mode": {
    "name": "ipython",
    "version": 3
   },
   "file_extension": ".py",
   "mimetype": "text/x-python",
   "name": "python",
   "nbconvert_exporter": "python",
   "pygments_lexer": "ipython3",
   "version": "3.10.12"
  }
 },
 "nbformat": 4,
 "nbformat_minor": 5
}
