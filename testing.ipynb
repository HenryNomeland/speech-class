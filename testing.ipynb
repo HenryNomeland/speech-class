{
 "cells": [
  {
   "cell_type": "code",
   "execution_count": 1,
   "id": "a40ea90b",
   "metadata": {},
   "outputs": [],
   "source": [
    "import warnings\n",
    "warnings.filterwarnings('ignore')"
   ]
  },
  {
   "cell_type": "code",
   "execution_count": 2,
   "id": "75099d58",
   "metadata": {},
   "outputs": [],
   "source": [
    "# # EXAMPLE CODE\n",
    "\n",
    "# # IMPORTS:\n",
    "# from wav_conversion import convert_mp3_to_wav\n",
    "# from textgrid_creation import create_textgrids\n",
    "# from custom_mfa_align import align\n",
    "# from formant_extraction import extract\n",
    "\n",
    "# # ARGUMENTS:\n",
    "# mp3_folder = \"/home/henrynomeland/Documents/senior-thesis/speech-class/mp3-input\"\n",
    "# in_folder = \"/home/henrynomeland/Documents/senior-thesis/speech-class/montreal-input\"\n",
    "# out_folder = \"/home/henrynomeland/Documents/senior-thesis/speech-class/montreal-output\"\n",
    "# home_folder = \"/home/henrynomeland/Documents/senior-thesis/speech-class\" \n",
    "# label = \"Please call Stella. Ask her to bring these things with her from the store: \\\n",
    "# Six spoons of fresh snow peas, five thick slabs of blue cheese, and maybe a snack for \\\n",
    "# her brother Bob. We also need a small plastic snake and a big toy frog for the kids. She \\\n",
    "# can scoop these things into three red bags, and we will go meet her Wednesday at the train station.\"\n",
    "# acoustic_model = \"english_us_arpa\"\n",
    "# dictionary_model = \"english_us_arpa\"\n",
    "# filename=\"testing.csv\"\n",
    "\n",
    "# # this converts mp3 files to wav files\n",
    "# # convert_mp3_to_wav(mp3_folder, in_folder, out_folder)\n",
    "# # this creates the textgrids\n",
    "# create_textgrids(label, in_folder)\n",
    "# # this aligns the textgrids\n",
    "# align(in_folder, out_folder, acoustic_model, dictionary_model)\n",
    "# # this calculates formant measurements\n",
    "# extract(out_folder, home_folder, filename)"
   ]
  },
  {
   "cell_type": "code",
   "execution_count": 3,
   "id": "1deda548",
   "metadata": {},
   "outputs": [
    {
     "name": "stdout",
     "output_type": "stream",
     "text": [
      "Fitting model of type ridge_classification\n",
      "Fitting LOOCV split 0\n",
      "Fitting LOOCV split 10\n",
      "Fitting LOOCV split 20\n",
      "Fitting LOOCV split 30\n",
      "Fitting LOOCV split 40\n",
      "Fitting LOOCV split 50\n",
      "\n",
      "Accuracy: 0.904\n",
      "\n",
      "Variable Importance Measurements:\n",
      "        Feature  Importance\n",
      "120      du-bob    0.001036\n",
      "13      F1-call    0.000962\n",
      "134     du-kids    0.000888\n",
      "3       F1-also    0.000888\n",
      "111     F2-with    0.000888\n",
      "125   du-cheese    0.000888\n",
      "37     F1-small    0.000888\n",
      "73     F2-fresh    0.000814\n",
      "129     du-frog    0.000814\n",
      "97   F2-station    0.000814\n"
     ]
    }
   ],
   "source": [
    "from speech_modeling import h_input, h_model\n",
    "import pandas as pd\n",
    "df = pd.read_csv('gmu-formants.csv')\n",
    "input_data = h_input(df)\n",
    "input_data.process('region')\n",
    "input_data.select_features(selected_features=['F1', 'F2', 'F3', 'duration'])\n",
    "input_data.normalize(method='z')\n",
    "input_data.select_places(places=['uk', 'texas', 'california', 'newyork'])\n",
    "\n",
    "model_data = input_data.input_df.copy()\n",
    "model_features = ['age', 'gender'] + list(input_data.input_df.columns[4:])\n",
    "\n",
    "m = h_model(data=model_data, features=model_features, y_feature=\"location\", y_main=\"uk\")\n",
    "m.fit(model_type=\"ridge_classification\")"
   ]
  },
  {
   "cell_type": "code",
   "execution_count": 6,
   "id": "07332753-8a6d-465f-bf9a-1e43a3e4d5b8",
   "metadata": {},
   "outputs": [
    {
     "name": "stdout",
     "output_type": "stream",
     "text": [
      "\n"
     ]
    }
   ],
   "source": [
    "all_data = h_input(df)\n",
    "all_data.process('country')\n",
    "all_data.select_features(selected_features=['F1', 'F2', 'F3', 'duration'])\n",
    "all_data.normalize(method='z')\n",
    "all_data.select_places(places=['uk', 'usa'])\n",
    "print()"
   ]
  },
  {
   "cell_type": "code",
   "execution_count": 5,
   "id": "caa71c2c-fa18-467c-aa6f-d1269f4def18",
   "metadata": {},
   "outputs": [
    {
     "name": "stdout",
     "output_type": "stream",
     "text": [
      "Real location: uk\n",
      "Predicted location: uk\n"
     ]
    }
   ],
   "source": [
    "print(\"Real location:\", all_data.input_df.iloc[305].location)\n",
    "m.sample_predict(custom=all_data.input_df.iloc[305])"
   ]
  }
 ],
 "metadata": {
  "kernelspec": {
   "display_name": "Python 3 (ipykernel)",
   "language": "python",
   "name": "python3"
  },
  "language_info": {
   "codemirror_mode": {
    "name": "ipython",
    "version": 3
   },
   "file_extension": ".py",
   "mimetype": "text/x-python",
   "name": "python",
   "nbconvert_exporter": "python",
   "pygments_lexer": "ipython3",
   "version": "3.11.5"
  }
 },
 "nbformat": 4,
 "nbformat_minor": 5
}
