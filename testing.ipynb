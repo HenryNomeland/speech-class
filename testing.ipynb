{
 "cells": [
  {
   "cell_type": "code",
   "execution_count": 28,
   "id": "a40ea90b",
   "metadata": {},
   "outputs": [],
   "source": [
    "import warnings\n",
    "warnings.filterwarnings('ignore')"
   ]
  },
  {
   "cell_type": "code",
   "execution_count": 31,
   "id": "75099d58",
   "metadata": {},
   "outputs": [
    {
     "name": "stderr",
     "output_type": "stream",
     "text": [
      "Please be aware that you are running an alpha version of MFA. If you would like to install a more stable version, please visit https://montreal-forced-aligner.readthedocs.io/en/latest/installation.html#installing-older-versions-of-mfa\n",
      "Local version of model already exists (/home/henrynomeland/Documents/MFA/pretrained_models/acoustic/english_us_arpa.zip). Use the --ignore_cache flag to force redownloading.\n",
      "Please be aware that you are running an alpha version of MFA. If you would like to install a more stable version, please visit https://montreal-forced-aligner.readthedocs.io/en/latest/installation.html#installing-older-versions-of-mfa\n",
      "Local version of model already exists (/home/henrynomeland/Documents/MFA/pretrained_models/dictionary/english_us_arpa.dict). Use the --ignore_cache flag to force redownloading.\n",
      "Please be aware that you are running an alpha version of MFA. If you would like to install a more stable version, please visit https://montreal-forced-aligner.readthedocs.io/en/latest/installation.html#installing-older-versions-of-mfa\n",
      " INFO     Setting up corpus information...                                      \n",
      " INFO     Loading corpus from source files...                                   \n"
     ]
    },
    {
     "name": "stdout",
     "output_type": "stream",
     "text": [
      " 100% ━━━━━━━━━━━━━━━━━━━━━━━━━━━━━━━━━━ 377/100  [ 0:00:00 < 0:00:00 , ? it/s ]\n"
     ]
    },
    {
     "name": "stderr",
     "output_type": "stream",
     "text": [
      " INFO     Found 1 speaker across 656 files, average number of utterances per    \n",
      "          speaker: 656.0                                                        \n",
      " INFO     Initializing multiprocessing jobs...                                  \n",
      " WARNING  Number of jobs was specified as 3, but due to only having 1 speakers, \n",
      "          MFA will only use 1 jobs. Use the --single_speaker flag if you would  \n",
      "          like to split utterances across jobs regardless of their speaker.     \n",
      " INFO     Normalizing text...                                                   \n"
     ]
    },
    {
     "name": "stdout",
     "output_type": "stream",
     "text": [
      "  52% ━━━━━━━━━━━━━━━╸               343/656  [ 0:00:03 < 0:00:01 , 3,342 it/s ]\n"
     ]
    },
    {
     "name": "stderr",
     "output_type": "stream",
     "text": [
      " INFO     Generating MFCCs...                                                   \n"
     ]
    },
    {
     "name": "stdout",
     "output_type": "stream",
     "text": [
      " 100% ━━━━━━━━━━━━━━━━━━━━━━━━━━━━━━━━╸ 655/656  [ 0:00:33 < 0:00:01 , 21 it/s ]\n"
     ]
    },
    {
     "name": "stderr",
     "output_type": "stream",
     "text": [
      " INFO     Calculating CMVN...                                                   \n",
      " INFO     Generating final features...                                          \n"
     ]
    },
    {
     "name": "stdout",
     "output_type": "stream",
     "text": [
      "  97% ━━━━━━━━━━━━━━━━━━━━━━━━━━━━━  639/656  [ 0:00:02 < 0:00:01 , 1,608 it/s ]\n"
     ]
    },
    {
     "name": "stderr",
     "output_type": "stream",
     "text": [
      " INFO     Creating corpus split...                                              \n"
     ]
    },
    {
     "name": "stdout",
     "output_type": "stream",
     "text": [
      "   0%                                      0/656  [ 0:00:02 < -:--:-- , ? it/s ]\n"
     ]
    },
    {
     "name": "stderr",
     "output_type": "stream",
     "text": [
      " INFO     Compiling training graphs...                                          \n",
      " INFO     Performing first-pass alignment...                                    \n",
      " INFO     Generating alignments...                                              \n"
     ]
    },
    {
     "name": "stdout",
     "output_type": "stream",
     "text": [
      "  99% ━━━━━━━━━━━━━━━━━━━━━━━━━━━━━━━━━╸ 652/656  [ 0:01:15 < 0:00:01 , 7 it/s ]\n"
     ]
    },
    {
     "name": "stderr",
     "output_type": "stream",
     "text": [
      " INFO     Calculating fMLLR for speaker adaptation...                           \n"
     ]
    },
    {
     "name": "stdout",
     "output_type": "stream",
     "text": [
      " 100% ━━━━━━━━━━━━━━━━━━━━━━━━━━━━━━━━━━━━━━ 1/1  [ 0:00:22 < 0:00:00 , ? it/s ]\n"
     ]
    },
    {
     "name": "stderr",
     "output_type": "stream",
     "text": [
      " INFO     Performing second-pass alignment...                                   \n",
      " INFO     Generating alignments...                                              \n"
     ]
    },
    {
     "name": "stdout",
     "output_type": "stream",
     "text": [
      "  97% ━━━━━━━━━━━━━━━━━━━━━━━━━━━━━━━━━  639/656  [ 0:01:27 < 0:00:03 , 8 it/s ]\n"
     ]
    },
    {
     "name": "stderr",
     "output_type": "stream",
     "text": [
      " INFO     Collecting phone and word alignments from alignment lattices...       \n"
     ]
    },
    {
     "name": "stdout",
     "output_type": "stream",
     "text": [
      "  92% ━━━━━━━━━━━━━━━━━━━━━━━━━━━━━    602/656  [ 0:00:05 < 0:00:01 , 996 it/s ]\n"
     ]
    },
    {
     "name": "stderr",
     "output_type": "stream",
     "text": [
      " WARNING  Alignment analysis not available without using postgresql             \n",
      " INFO     Exporting alignment TextGrids to                                      \n",
      "          /home/henrynomeland/Documents/senior-thesis/speech-class/montreal-outp\n",
      "          ut...                                                                 \n"
     ]
    },
    {
     "name": "stdout",
     "output_type": "stream",
     "text": [
      " 100% ━━━━━━━━━━━━━━━━━━━━━━━━━━━━━━━━╸ 654/656  [ 0:00:18 < 0:00:01 , 36 it/s ]\n"
     ]
    },
    {
     "name": "stderr",
     "output_type": "stream",
     "text": [
      " INFO     Finished exporting TextGrids to                                       \n",
      "          /home/henrynomeland/Documents/senior-thesis/speech-class/montreal-outp\n",
      "          ut!                                                                   \n",
      " INFO     Done! Everything took 294.442 seconds                                 \n"
     ]
    },
    {
     "data": {
      "text/plain": [
       "0"
      ]
     },
     "execution_count": 31,
     "metadata": {},
     "output_type": "execute_result"
    }
   ],
   "source": [
    "#this chunk runs the montreal forced aligner command that aligns all of the texgrids in montreal-input\n",
    "import subprocess\n",
    "\n",
    "subprocess.call(\"mfa model download acoustic \\\n",
    "english_us_arpa\", shell=True)\n",
    "\n",
    "subprocess.call(\"mfa model download dictionary \\\n",
    "english_us_arpa\", shell=True)\n",
    "\n",
    "subprocess.call(\"mfa align --clean \\\n",
    "/home/henrynomeland/Documents/senior-thesis/speech-class/montreal-input \\\n",
    "english_us_arpa \\\n",
    "english_us_arpa \\\n",
    "/home/henrynomeland/Documents/senior-thesis/speech-class/montreal-output\", shell=True)"
   ]
  },
  {
   "cell_type": "code",
   "execution_count": 16,
   "id": "5db9163a",
   "metadata": {},
   "outputs": [
    {
     "name": "stdout",
     "output_type": "stream",
     "text": [
      "Fitting Model of type rforest\n",
      "Modeling Sample 1 of 5\n"
     ]
    },
    {
     "name": "stderr",
     "output_type": "stream",
     "text": [
      "/usr/lib/python3/dist-packages/scipy/__init__.py:146: UserWarning: A NumPy version >=1.17.3 and <1.25.0 is required for this version of SciPy (detected version 1.26.1\n",
      "  warnings.warn(f\"A NumPy version >={np_minversion} and <{np_maxversion}\"\n",
      "/usr/lib/python3/dist-packages/scipy/__init__.py:146: UserWarning: A NumPy version >=1.17.3 and <1.25.0 is required for this version of SciPy (detected version 1.26.1\n",
      "  warnings.warn(f\"A NumPy version >={np_minversion} and <{np_maxversion}\"\n"
     ]
    },
    {
     "name": "stdout",
     "output_type": "stream",
     "text": [
      "Modeling Sample 2 of 5\n",
      "Modeling Sample 3 of 5\n",
      "Modeling Sample 4 of 5\n",
      "Modeling Sample 5 of 5\n",
      "\n",
      "Accuracy: 0.923\n",
      "\n",
      "Variable Importance Measurements:\n",
      "           Feature  Importance\n",
      "65          du-bob    0.000725\n",
      "68         du-call    0.000695\n",
      "74         du-frog    0.000577\n",
      "92        du-small    0.000518\n",
      "85      du-plastic    0.000444\n",
      "104       du-three    0.000444\n",
      "24      F1mF2-kids    0.000414\n",
      "5        F1mF2-ask    0.000325\n",
      "58         du-also    0.000311\n",
      "42   F1mF2-station    0.000311\n"
     ]
    }
   ],
   "source": [
    "import pandas as pd\n",
    "from speech_modeling import h_model, h_input\n",
    "raw_df = pd.read_csv(\"./gmu-formants.csv\")\n",
    "\n",
    "input_data = h_input(raw_df)\n",
    "input_data.process('region')\n",
    "input_data.select_features(selected_features=['F1mF2', 'duration'])\n",
    "input_data.normalize(method='minmax')\n",
    "input_data.select_places(places=['uk', 'texas', 'california', 'newyork'])\n",
    "\n",
    "model_data = input_data.input_df\n",
    "model_features = ['age', 'gender'] + list(input_data.input_df.columns[4:])\n",
    "\n",
    "m = h_model(data=model_data, features=model_features, y_feature=\"location\", y_main=\"uk\")\n",
    "m.fit(NUM_SAMPLES=5)"
   ]
  },
  {
   "cell_type": "code",
   "execution_count": 18,
   "id": "1deda548",
   "metadata": {},
   "outputs": [
    {
     "name": "stdout",
     "output_type": "stream",
     "text": [
      "Fitting Model of type rforest\n",
      "Modeling Sample 1 of 8\n",
      "Modeling Sample 2 of 8\n",
      "Modeling Sample 3 of 8\n",
      "Modeling Sample 4 of 8\n",
      "Modeling Sample 5 of 8\n",
      "Modeling Sample 6 of 8\n",
      "Modeling Sample 7 of 8\n",
      "Modeling Sample 8 of 8\n",
      "\n",
      "Accuracy: 0.911\n",
      "\n",
      "Variable Importance Measurements:\n",
      "        Feature  Importance\n",
      "3       F1-also    0.000610\n",
      "13      F1-call    0.000481\n",
      "129     du-frog    0.000342\n",
      "120      du-bob    0.000250\n",
      "154    du-store    0.000222\n",
      "60       F2-ask    0.000176\n",
      "140  du-plastic    0.000157\n",
      "52     F1-train    0.000111\n",
      "113     du-also    0.000111\n",
      "159    du-three    0.000111\n"
     ]
    }
   ],
   "source": [
    "input_data.revert()\n",
    "input_data.process('region')\n",
    "input_data.select_features(selected_features=['F1', 'F2', 'F3', 'duration'])\n",
    "input_data.normalize(method='z')\n",
    "input_data.select_places(places=['uk', 'texas', 'california', 'newyork'])\n",
    "\n",
    "model_data = input_data.input_df\n",
    "model_features = ['age', 'gender'] + list(input_data.input_df.columns[4:])\n",
    "\n",
    "m = h_model(data=model_data, features=model_features, y_feature=\"location\", y_main=\"uk\")\n",
    "m.fit(NUM_SAMPLES=8)"
   ]
  },
  {
   "cell_type": "code",
   "execution_count": 17,
   "id": "f2b426d0",
   "metadata": {},
   "outputs": [
    {
     "name": "stdout",
     "output_type": "stream",
     "text": [
      "Fitting Model of type rforest\n",
      "Modeling Sample 1 of 5\n"
     ]
    },
    {
     "name": "stderr",
     "output_type": "stream",
     "text": [
      "/usr/lib/python3/dist-packages/scipy/__init__.py:146: UserWarning: A NumPy version >=1.17.3 and <1.25.0 is required for this version of SciPy (detected version 1.26.1\n",
      "  warnings.warn(f\"A NumPy version >={np_minversion} and <{np_maxversion}\"\n",
      "/usr/lib/python3/dist-packages/scipy/__init__.py:146: UserWarning: A NumPy version >=1.17.3 and <1.25.0 is required for this version of SciPy (detected version 1.26.1\n",
      "  warnings.warn(f\"A NumPy version >={np_minversion} and <{np_maxversion}\"\n"
     ]
    },
    {
     "name": "stdout",
     "output_type": "stream",
     "text": [
      "Modeling Sample 2 of 5\n",
      "Modeling Sample 3 of 5\n",
      "Modeling Sample 4 of 5\n",
      "Modeling Sample 5 of 5\n",
      "\n",
      "Accuracy: 0.533\n",
      "\n",
      "Variable Importance Measurements:\n",
      "         Feature  Importance\n",
      "6       F1mF2-at    0.001458\n",
      "111      du-with    0.001389\n",
      "77        du-her    0.001250\n",
      "63        du-big    0.000903\n",
      "36   F1mF2-slabs    0.000903\n",
      "103    du-things    0.000903\n",
      "45     F1mF2-the    0.000833\n",
      "33   F1mF2-scoop    0.000833\n",
      "71       du-five    0.000833\n",
      "3     F1mF2-also    0.000833\n"
     ]
    }
   ],
   "source": [
    "input_data.revert()\n",
    "input_data.process('region')\n",
    "input_data.select_features(selected_features=['F1mF2', 'duration'])\n",
    "input_data.normalize(method='minmax')\n",
    "input_data.select_places(places=['northcarolina', 'texas', 'california', 'newyork'])\n",
    "\n",
    "model_data = input_data.input_df\n",
    "model_features = ['age', 'gender'] + list(input_data.input_df.columns[4:])\n",
    "\n",
    "m = h_model(data=model_data, features=model_features, y_feature=\"location\", y_main=\"northcarolina\")\n",
    "m.fit(NUM_SAMPLES=5)"
   ]
  },
  {
   "cell_type": "code",
   "execution_count": 19,
   "id": "f276e0ba",
   "metadata": {},
   "outputs": [
    {
     "name": "stdout",
     "output_type": "stream",
     "text": [
      "Fitting Model of type rforest\n",
      "Modeling Sample 1 of 5\n"
     ]
    },
    {
     "name": "stderr",
     "output_type": "stream",
     "text": [
      "/usr/lib/python3/dist-packages/scipy/__init__.py:146: UserWarning: A NumPy version >=1.17.3 and <1.25.0 is required for this version of SciPy (detected version 1.26.1\n",
      "  warnings.warn(f\"A NumPy version >={np_minversion} and <{np_maxversion}\"\n",
      "/usr/lib/python3/dist-packages/scipy/__init__.py:146: UserWarning: A NumPy version >=1.17.3 and <1.25.0 is required for this version of SciPy (detected version 1.26.1\n",
      "  warnings.warn(f\"A NumPy version >={np_minversion} and <{np_maxversion}\"\n"
     ]
    },
    {
     "name": "stdout",
     "output_type": "stream",
     "text": [
      "Modeling Sample 2 of 5\n",
      "Modeling Sample 3 of 5\n",
      "Modeling Sample 4 of 5\n",
      "Modeling Sample 5 of 5\n",
      "\n",
      "Accuracy: 0.625\n",
      "\n",
      "Variable Importance Measurements:\n",
      "         Feature  Importance\n",
      "96     du-spoons    0.001250\n",
      "77        du-her    0.000972\n",
      "111      du-with    0.000556\n",
      "53      F1mF2-we    0.000486\n",
      "104     du-three    0.000486\n",
      "29    F1mF2-peas    0.000486\n",
      "49   F1mF2-three    0.000486\n",
      "90        du-six    0.000486\n",
      "91      du-slabs    0.000486\n",
      "98     du-stella    0.000417\n"
     ]
    }
   ],
   "source": [
    "input_data.revert()\n",
    "input_data.process('region')\n",
    "input_data.select_features(selected_features=['F1mF2', 'duration'])\n",
    "input_data.normalize(method='minmax')\n",
    "input_data.select_places(places=['northcarolina', 'newyork'])\n",
    "\n",
    "model_data = input_data.input_df\n",
    "model_features = ['age', 'gender'] + list(input_data.input_df.columns[4:])\n",
    "\n",
    "m = h_model(data=model_data, features=model_features, y_feature=\"location\", y_main=\"northcarolina\")\n",
    "m.fit(NUM_SAMPLES=5)"
   ]
  }
 ],
 "metadata": {
  "kernelspec": {
   "display_name": "Python 3 (ipykernel)",
   "language": "python",
   "name": "python3"
  },
  "language_info": {
   "codemirror_mode": {
    "name": "ipython",
    "version": 3
   },
   "file_extension": ".py",
   "mimetype": "text/x-python",
   "name": "python",
   "nbconvert_exporter": "python",
   "pygments_lexer": "ipython3",
   "version": "3.10.12"
  }
 },
 "nbformat": 4,
 "nbformat_minor": 5
}
