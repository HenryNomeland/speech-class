{
 "cells": [
  {
   "cell_type": "code",
   "execution_count": 2,
   "id": "a40ea90b",
   "metadata": {},
   "outputs": [],
   "source": [
    "import warnings\n",
    "warnings.filterwarnings('ignore')"
   ]
  },
  {
   "cell_type": "code",
   "execution_count": 1,
   "id": "75099d58",
   "metadata": {},
   "outputs": [],
   "source": [
    "# this chunk runs the montreal forced aligner command that aligns all of the texgrids in montreal-input\n",
    "# import subprocess\n",
    "\n",
    "# subprocess.call(\"mfa model download acoustic \\\n",
    "# english_us_arpa\", shell=True)\n",
    "\n",
    "# subprocess.call(\"mfa model download dictionary \\\n",
    "# english_us_arpa\", shell=True)\n",
    "\n",
    "# subprocess.call(\"mfa align --clean \\\n",
    "# /home/henrynomeland/Documents/senior-thesis/speech-class/montreal-input \\\n",
    "# english_us_arpa \\\n",
    "# english_us_arpa \\\n",
    "# /home/henrynomeland/Documents/senior-thesis/speech-class/montreal-output\", shell=True)"
   ]
  },
  {
   "cell_type": "code",
   "execution_count": 3,
   "id": "5db9163a",
   "metadata": {},
   "outputs": [
    {
     "name": "stdout",
     "output_type": "stream",
     "text": [
      "Fitting Model of type rforest\n",
      "Modeling Sample 1 of 5\n",
      "Modeling Sample 2 of 5\n",
      "Modeling Sample 3 of 5\n",
      "Modeling Sample 4 of 5\n",
      "Modeling Sample 5 of 5\n",
      "\n",
      "Accuracy: 0.865\n",
      "\n",
      "Variable Importance Measurements:\n",
      "           Feature  Importance\n",
      "68         du-call    0.000311\n",
      "74         du-frog    0.000311\n",
      "4        F1mF2-and    0.000266\n",
      "65          du-bob    0.000148\n",
      "30   F1mF2-plastic    0.000118\n",
      "104       du-three    0.000104\n",
      "99        du-store    0.000104\n",
      "85      du-plastic    0.000089\n",
      "0              age    0.000074\n",
      "31    F1mF2-please    0.000074\n"
     ]
    }
   ],
   "source": [
    "import pandas as pd\n",
    "from speech_modeling import h_model, h_input\n",
    "raw_df = pd.read_csv(\"./gmu-formants.csv\")\n",
    "\n",
    "input_data = h_input(raw_df)\n",
    "input_data.process('region')\n",
    "input_data.select_features(selected_features=['F1mF2', 'duration'])\n",
    "input_data.normalize(method='minmax')\n",
    "input_data.select_places(places=['uk', 'texas', 'california', 'newyork'])\n",
    "\n",
    "model_data = input_data.input_df\n",
    "model_features = ['age', 'gender'] + list(input_data.input_df.columns[4:])\n",
    "\n",
    "m = h_model(data=model_data, features=model_features, y_feature=\"location\", y_main=\"uk\")\n",
    "m.fit(NUM_SAMPLES=5)"
   ]
  },
  {
   "cell_type": "code",
   "execution_count": 4,
   "id": "1deda548",
   "metadata": {},
   "outputs": [
    {
     "name": "stdout",
     "output_type": "stream",
     "text": [
      "Fitting Model of type rforest\n",
      "Modeling Sample 1 of 8\n",
      "Modeling Sample 2 of 8\n",
      "Modeling Sample 3 of 8\n",
      "Modeling Sample 4 of 8\n",
      "Modeling Sample 5 of 8\n",
      "Modeling Sample 6 of 8\n",
      "Modeling Sample 7 of 8\n",
      "Modeling Sample 8 of 8\n",
      "\n",
      "Accuracy: 0.904\n",
      "\n",
      "Variable Importance Measurements:\n",
      "        Feature  Importance\n",
      "140  du-plastic    0.000536\n",
      "60       F2-ask    0.000342\n",
      "120      du-bob    0.000259\n",
      "129     du-frog    0.000250\n",
      "154    du-store    0.000176\n",
      "159    du-three    0.000139\n",
      "77       F2-her    0.000111\n",
      "46     F1-these    0.000092\n",
      "59       F2-and    0.000083\n",
      "39     F1-snake    0.000083\n"
     ]
    }
   ],
   "source": [
    "input_data.revert()\n",
    "input_data.process('region')\n",
    "input_data.select_features(selected_features=['F1', 'F2', 'F3', 'duration'])\n",
    "input_data.normalize(method='z')\n",
    "input_data.select_places(places=['uk', 'texas', 'california', 'newyork'])\n",
    "\n",
    "model_data = input_data.input_df\n",
    "model_features = ['age', 'gender'] + list(input_data.input_df.columns[4:])\n",
    "\n",
    "m = h_model(data=model_data, features=model_features, y_feature=\"location\", y_main=\"uk\")\n",
    "m.fit(NUM_SAMPLES=8)"
   ]
  },
  {
   "cell_type": "code",
   "execution_count": 5,
   "id": "f2b426d0",
   "metadata": {},
   "outputs": [
    {
     "name": "stdout",
     "output_type": "stream",
     "text": [
      "Fitting Model of type rforest\n",
      "Modeling Sample 1 of 5\n",
      "Modeling Sample 2 of 5\n",
      "Modeling Sample 3 of 5\n",
      "Modeling Sample 4 of 5\n",
      "Modeling Sample 5 of 5\n",
      "\n",
      "Accuracy: 0.533\n",
      "\n",
      "Variable Importance Measurements:\n",
      "         Feature  Importance\n",
      "36   F1mF2-slabs    0.001181\n",
      "83         du-of    0.001042\n",
      "97    du-station    0.000972\n",
      "47   F1mF2-thick    0.000972\n",
      "33   F1mF2-scoop    0.000972\n",
      "90        du-six    0.000972\n",
      "111      du-with    0.000972\n",
      "94      du-snake    0.000764\n",
      "66      du-bring    0.000694\n",
      "61         du-at    0.000694\n"
     ]
    }
   ],
   "source": [
    "input_data.revert()\n",
    "input_data.process('region')\n",
    "input_data.select_features(selected_features=['F1mF2', 'duration'])\n",
    "input_data.normalize(method='minmax')\n",
    "input_data.select_places(places=['northcarolina', 'texas', 'california', 'newyork'])\n",
    "\n",
    "model_data = input_data.input_df\n",
    "model_features = ['age', 'gender'] + list(input_data.input_df.columns[4:])\n",
    "\n",
    "m = h_model(data=model_data, features=model_features, y_feature=\"location\", y_main=\"northcarolina\")\n",
    "m.fit(NUM_SAMPLES=5)"
   ]
  },
  {
   "cell_type": "code",
   "execution_count": 19,
   "id": "f276e0ba",
   "metadata": {},
   "outputs": [
    {
     "name": "stdout",
     "output_type": "stream",
     "text": [
      "Fitting Model of type rforest\n",
      "Modeling Sample 1 of 5\n"
     ]
    },
    {
     "name": "stderr",
     "output_type": "stream",
     "text": [
      "/usr/lib/python3/dist-packages/scipy/__init__.py:146: UserWarning: A NumPy version >=1.17.3 and <1.25.0 is required for this version of SciPy (detected version 1.26.1\n",
      "  warnings.warn(f\"A NumPy version >={np_minversion} and <{np_maxversion}\"\n",
      "/usr/lib/python3/dist-packages/scipy/__init__.py:146: UserWarning: A NumPy version >=1.17.3 and <1.25.0 is required for this version of SciPy (detected version 1.26.1\n",
      "  warnings.warn(f\"A NumPy version >={np_minversion} and <{np_maxversion}\"\n"
     ]
    },
    {
     "name": "stdout",
     "output_type": "stream",
     "text": [
      "Modeling Sample 2 of 5\n",
      "Modeling Sample 3 of 5\n",
      "Modeling Sample 4 of 5\n",
      "Modeling Sample 5 of 5\n",
      "\n",
      "Accuracy: 0.625\n",
      "\n",
      "Variable Importance Measurements:\n",
      "         Feature  Importance\n",
      "96     du-spoons    0.001250\n",
      "77        du-her    0.000972\n",
      "111      du-with    0.000556\n",
      "53      F1mF2-we    0.000486\n",
      "104     du-three    0.000486\n",
      "29    F1mF2-peas    0.000486\n",
      "49   F1mF2-three    0.000486\n",
      "90        du-six    0.000486\n",
      "91      du-slabs    0.000486\n",
      "98     du-stella    0.000417\n"
     ]
    }
   ],
   "source": [
    "input_data.revert()\n",
    "input_data.process('region')\n",
    "input_data.select_features(selected_features=['F1mF2', 'duration'])\n",
    "input_data.normalize(method='minmax')\n",
    "input_data.select_places(places=['northcarolina', 'newyork'])\n",
    "\n",
    "model_data = input_data.input_df\n",
    "model_features = ['age', 'gender'] + list(input_data.input_df.columns[4:])\n",
    "\n",
    "m = h_model(data=model_data, features=model_features, y_feature=\"location\", y_main=\"northcarolina\")\n",
    "m.fit(NUM_SAMPLES=5)"
   ]
  }
 ],
 "metadata": {
  "kernelspec": {
   "display_name": "Python 3 (ipykernel)",
   "language": "python",
   "name": "python3"
  },
  "language_info": {
   "codemirror_mode": {
    "name": "ipython",
    "version": 3
   },
   "file_extension": ".py",
   "mimetype": "text/x-python",
   "name": "python",
   "nbconvert_exporter": "python",
   "pygments_lexer": "ipython3",
   "version": "3.11.5"
  }
 },
 "nbformat": 4,
 "nbformat_minor": 5
}
