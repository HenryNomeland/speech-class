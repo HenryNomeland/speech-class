{
 "cells": [
  {
   "cell_type": "code",
   "execution_count": 1,
   "id": "72a241c5-4a89-448d-88c1-8ee0ab9b31d1",
   "metadata": {},
   "outputs": [],
   "source": [
    "import os\n",
    "import csv\n",
    "import math\n",
    "import shutil\n",
    "from wrangling.textgrid_creation import create_textgrids\n",
    "from wrangling.custom_mfa_align import align\n",
    "from wrangling.formant_extraction import extract"
   ]
  },
  {
   "cell_type": "code",
   "execution_count": 2,
   "id": "2e712475",
   "metadata": {},
   "outputs": [],
   "source": [
    "# convert the .txt file with speaker information into a .csv file\n",
    "\n",
    "# with open('SPKRINFO.TXT', 'r') as file:\n",
    "#     data = file.read()\n",
    "# data = data.replace(\"  \", \",\")\n",
    "# data = data.replace(' ', '')\n",
    "\n",
    "# with open('speaker_info.csv', 'w', newline='') as csv_file:\n",
    "#     csv_writer = csv.writer(csv_file)\n",
    "#     for line in data.splitlines():\n",
    "#         csv_writer.writerow(line.split(','))"
   ]
  },
  {
   "cell_type": "code",
   "execution_count": 3,
   "id": "c0a32bf2",
   "metadata": {},
   "outputs": [
    {
     "data": {
      "text/html": [
       "<div>\n",
       "<style scoped>\n",
       "    .dataframe tbody tr th:only-of-type {\n",
       "        vertical-align: middle;\n",
       "    }\n",
       "\n",
       "    .dataframe tbody tr th {\n",
       "        vertical-align: top;\n",
       "    }\n",
       "\n",
       "    .dataframe thead th {\n",
       "        text-align: right;\n",
       "    }\n",
       "</style>\n",
       "<table border=\"1\" class=\"dataframe\">\n",
       "  <thead>\n",
       "    <tr style=\"text-align: right;\">\n",
       "      <th></th>\n",
       "      <th>id</th>\n",
       "      <th>sex</th>\n",
       "      <th>Age</th>\n",
       "      <th>region</th>\n",
       "      <th>filename</th>\n",
       "    </tr>\n",
       "  </thead>\n",
       "  <tbody>\n",
       "    <tr>\n",
       "      <th>0</th>\n",
       "      <td>ABC0</td>\n",
       "      <td>m</td>\n",
       "      <td>25</td>\n",
       "      <td>newyorkcity</td>\n",
       "      <td>ABC0-m-25-newyorkcity</td>\n",
       "    </tr>\n",
       "    <tr>\n",
       "      <th>1</th>\n",
       "      <td>ABW0</td>\n",
       "      <td>m</td>\n",
       "      <td>26</td>\n",
       "      <td>northern</td>\n",
       "      <td>ABW0-m-26-northern</td>\n",
       "    </tr>\n",
       "    <tr>\n",
       "      <th>2</th>\n",
       "      <td>ADC0</td>\n",
       "      <td>m</td>\n",
       "      <td>31</td>\n",
       "      <td>northmidland</td>\n",
       "      <td>ADC0-m-31-northmidland</td>\n",
       "    </tr>\n",
       "    <tr>\n",
       "      <th>3</th>\n",
       "      <td>ADD0</td>\n",
       "      <td>m</td>\n",
       "      <td>27</td>\n",
       "      <td>western</td>\n",
       "      <td>ADD0-m-27-western</td>\n",
       "    </tr>\n",
       "    <tr>\n",
       "      <th>4</th>\n",
       "      <td>ADG0</td>\n",
       "      <td>f</td>\n",
       "      <td>26</td>\n",
       "      <td>southmidland</td>\n",
       "      <td>ADG0-f-26-southmidland</td>\n",
       "    </tr>\n",
       "  </tbody>\n",
       "</table>\n",
       "</div>"
      ],
      "text/plain": [
       "     id sex  Age        region                filename\n",
       "0  ABC0   m   25   newyorkcity   ABC0-m-25-newyorkcity\n",
       "1  ABW0   m   26      northern      ABW0-m-26-northern\n",
       "2  ADC0   m   31  northmidland  ADC0-m-31-northmidland\n",
       "3  ADD0   m   27       western       ADD0-m-27-western\n",
       "4  ADG0   f   26  southmidland  ADG0-f-26-southmidland"
      ]
     },
     "execution_count": 3,
     "metadata": {},
     "output_type": "execute_result"
    }
   ],
   "source": [
    "# make a dataframe with all of the speaker information and write filenames in the proper format\n",
    "\n",
    "# import pandas as pd\n",
    "# loc_dict = {1:\"newengland\", 2:\"northern\", 3:\"northmidland\", 4:\"southmidland\", \n",
    "#             5:\"southern\", 6:\"newyorkcity\", 7:\"western\", 8:\"movedaround\"}\n",
    "# df = pd.read_csv('../speaker_info.csv', \n",
    "#                  names=['id', 'sex', 'region', 'lbl', 'date', 'DOB', 'thing', 'race', 'edu'])\n",
    "# df = df[['id', 'sex', 'region', 'date', 'DOB']]\n",
    "# df['date'] = pd.to_datetime(df['date'], format=\"%m/%d/%y\", errors='coerce')\n",
    "# df['DOB']= pd.to_datetime(df['DOB'], format=\"%m/%d/%y\", errors='coerce')\n",
    "# df['DOB'] = df['DOB'].apply(lambda x: x.replace(year=x.year - 100))\n",
    "# df['Age'] = (df['date'] - df['DOB']).dt.days / 365\n",
    "# df['Age'] = pd.to_numeric(df['Age'], errors='coerce').fillna(0).apply(math.floor)\n",
    "# df = df[['id', 'sex', 'Age', 'region']]\n",
    "# df['sex'] = df['sex'].str.lower()\n",
    "# df['region'] = df['region'].map(loc_dict)\n",
    "# df['filename'] = df.apply(lambda row: '-'.join(map(str, row)), axis=1)\n",
    "# df.head()"
   ]
  },
  {
   "cell_type": "code",
   "execution_count": 4,
   "id": "56be23d8",
   "metadata": {},
   "outputs": [],
   "source": [
    "# rename all of the directories to their corresponding dataframe filename\n",
    "\n",
    "# basedir = \"/home/henrynomeland/Documents/senior-thesis/timit_all\"\n",
    "# for entry in os.listdir(basedir):\n",
    "#     entry_path = os.path.join(basedir, entry)\n",
    "#     filename = df.loc[df.id==entry[1:]]['filename'].to_string(index=False)\n",
    "#     # Check if the entry is a directory\n",
    "#     if os.path.isdir(entry_path):\n",
    "#         os.rename(entry_path, os.path.join(basedir, filename))"
   ]
  },
  {
   "cell_type": "code",
   "execution_count": 5,
   "id": "3790bad3-94eb-4eb0-86b3-e431494ca25b",
   "metadata": {},
   "outputs": [],
   "source": [
    "# remove all of the files that aren't of the SA1 sample, rename files directory names\n",
    "\n",
    "# basedir = \"/home/henrynomeland/Documents/senior-thesis/timit_all\"\n",
    "# for path, subdirs, files in os.walk(basedir):\n",
    "#     for name in files:\n",
    "#         if (name[0:3] == \"SA1\") & (name[-3:] == \"WAV\"):\n",
    "#             file_path = os.path.join(path, name)\n",
    "#             directory_name = os.path.basename(path)\n",
    "#             shutil.move(file_path, os.path.join(basedir, directory_name + \".wav\"))\n",
    "#         else:\n",
    "#             os.remove(os.path.join(path, name))\n",
    "\n",
    "# for path, subdirs, files in os.walk(basedir):\n",
    "#     for dirname in subdirs:\n",
    "#         os.rmdir(os.path.join(path, dirname))"
   ]
  },
  {
   "cell_type": "code",
   "execution_count": 6,
   "id": "19e019b3-4266-4048-b309-91fedb43a4b1",
   "metadata": {},
   "outputs": [],
   "source": [
    "# same thing as the last chunk but with SA2 on a new copy of timit_all\n",
    "\n",
    "# basedir = \"/home/henrynomeland/Documents/senior-thesis/timit_all\"\n",
    "# for path, subdirs, files in os.walk(basedir):\n",
    "#     for name in files:\n",
    "#         if (name[0:3] == \"SA2\") & (name[-3:] == \"WAV\"):\n",
    "#             file_path = os.path.join(path, name)\n",
    "#             directory_name = os.path.basename(path)\n",
    "#             shutil.move(file_path, os.path.join(basedir, directory_name + \".wav\"))\n",
    "#         else:\n",
    "#             os.remove(os.path.join(path, name))\n",
    "\n",
    "# for path, subdirs, files in os.walk(basedir):\n",
    "#     for dirname in subdirs:\n",
    "#         os.rmdir(os.path.join(path, dirname))"
   ]
  },
  {
   "cell_type": "code",
   "execution_count": 9,
   "id": "8fec72e4-92af-42bc-af1e-0b988cf99f15",
   "metadata": {},
   "outputs": [
    {
     "name": "stdout",
     "output_type": "stream",
     "text": [
      "TextGrid Creation Successful\n",
      "Alignment Successful\n",
      "Extraction Successful\n"
     ]
    }
   ],
   "source": [
    "# create textgrids for SA1, align, and extract features\n",
    "\n",
    "# ARGUMENTS:\n",
    "# in_folder = \"/home/henrynomeland/Documents/senior-thesis/speech-class/data/timit_SA1\"\n",
    "# out_folder = \"/home/henrynomeland/Documents/senior-thesis/speech-class/data/timit_SA1-output\"\n",
    "# home_folder = \"/home/henrynomeland/Documents/senior-thesis/speech-class/data\" \n",
    "# label = \"She had your dark suit in greasy wash water all year.\"\n",
    "# acoustic_model = \"english_us_arpa\"\n",
    "# dictionary_model = \"english_us_arpa\"\n",
    "# filename=\"timit_SA1-results.csv\"\n",
    "\n",
    "# # this creates the textgrids\n",
    "# create_textgrids(label, in_folder)\n",
    "# # this aligns the textgrids\n",
    "# align(in_folder, out_folder, acoustic_model, dictionary_model)\n",
    "# # this calculates formant measurements\n",
    "# extract(out_folder, home_folder, filename)"
   ]
  },
  {
   "cell_type": "code",
   "execution_count": 10,
   "id": "ee15cc7f-5cfb-45b1-99e7-2d55a737750d",
   "metadata": {},
   "outputs": [
    {
     "name": "stdout",
     "output_type": "stream",
     "text": [
      "TextGrid Creation Successful\n",
      "Alignment Successful\n",
      "Extraction Successful\n"
     ]
    }
   ],
   "source": [
    "# create textgrids for SA2, align, and extract features\n",
    "\n",
    "# ARGUMENTS:\n",
    "# in_folder = \"/home/henrynomeland/Documents/senior-thesis/speech-class/data/timit_SA2\"\n",
    "# out_folder = \"/home/henrynomeland/Documents/senior-thesis/speech-class/data/timit_SA2-output\"\n",
    "# home_folder = \"/home/henrynomeland/Documents/senior-thesis/speech-class/data\" \n",
    "# label = \"Don't ask me to carry an oily rag like that.\"\n",
    "# acoustic_model = \"english_us_arpa\"\n",
    "# dictionary_model = \"english_us_arpa\"\n",
    "# filename=\"timit_SA2-results.csv\"\n",
    "\n",
    "# # this creates the textgrids\n",
    "# create_textgrids(label, in_folder)\n",
    "# # this aligns the textgrids\n",
    "# align(in_folder, out_folder, acoustic_model, dictionary_model)\n",
    "# # this calculates formant measurements\n",
    "# extract(out_folder, home_folder, filename)"
   ]
  }
 ],
 "metadata": {
  "kernelspec": {
   "display_name": "Python 3 (ipykernel)",
   "language": "python",
   "name": "python3"
  },
  "language_info": {
   "codemirror_mode": {
    "name": "ipython",
    "version": 3
   },
   "file_extension": ".py",
   "mimetype": "text/x-python",
   "name": "python",
   "nbconvert_exporter": "python",
   "pygments_lexer": "ipython3",
   "version": "3.11.5"
  }
 },
 "nbformat": 4,
 "nbformat_minor": 5
}
